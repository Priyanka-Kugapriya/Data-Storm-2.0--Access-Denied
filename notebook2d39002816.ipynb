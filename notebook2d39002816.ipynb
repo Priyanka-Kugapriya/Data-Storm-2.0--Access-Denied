{
 "cells": [
  {
   "cell_type": "code",
   "execution_count": 1,
   "metadata": {
    "_cell_guid": "b1076dfc-b9ad-4769-8c92-a6c4dae69d19",
    "_uuid": "8f2839f25d086af736a60e9eeb907d3b93b6e0e5",
    "execution": {
     "iopub.execute_input": "2021-03-13T18:05:08.151366Z",
     "iopub.status.busy": "2021-03-13T18:05:08.150745Z",
     "iopub.status.idle": "2021-03-13T18:05:08.165964Z",
     "shell.execute_reply": "2021-03-13T18:05:08.166599Z"
    },
    "papermill": {
     "duration": 0.060908,
     "end_time": "2021-03-13T18:05:08.167010",
     "exception": false,
     "start_time": "2021-03-13T18:05:08.106102",
     "status": "completed"
    },
    "tags": []
   },
   "outputs": [
    {
     "name": "stdout",
     "output_type": "stream",
     "text": [
      "/kaggle/input/hotel-reservation/Hotel-A-test.csv\n",
      "/kaggle/input/hotel-reservation/Hotel-A-train.csv\n",
      "/kaggle/input/hotel-reservation/Hotel-A-validation.csv\n",
      "/kaggle/input/data-storm-20/DataStorm2.0_Q1-v2.pdf\n",
      "/kaggle/input/data-storm-20/Hotel-A-test.csv\n",
      "/kaggle/input/data-storm-20/Hotel-A-train.csv\n",
      "/kaggle/input/data-storm-20/Hotel-A-validation.csv\n",
      "/kaggle/input/data-storm-20/Hotel-A-data-dictionary.csv\n"
     ]
    }
   ],
   "source": [
    "# This Python 3 environment comes with many helpful analytics libraries installed\n",
    "# It is defined by the kaggle/python Docker image: https://github.com/kaggle/docker-python\n",
    "# For example, here's several helpful packages to load\n",
    "\n",
    "import numpy as np # linear algebra\n",
    "import pandas as pd # data processing, CSV file I/O (e.g. pd.read_csv)\n",
    "\n",
    "# Input data files are available in the read-only \"../input/\" directory\n",
    "# For example, running this (by clicking run or pressing Shift+Enter) will list all files under the input directory\n",
    "\n",
    "import os\n",
    "for dirname, _, filenames in os.walk('/kaggle/input'):\n",
    "    for filename in filenames:\n",
    "        print(os.path.join(dirname, filename))\n",
    "\n",
    "# You can write up to 20GB to the current directory (/kaggle/working/) that gets preserved as output when you create a version using \"Save & Run All\" \n",
    "# You can also write temporary files to /kaggle/temp/, but they won't be saved outside of the current session"
   ]
  },
  {
   "cell_type": "markdown",
   "metadata": {
    "papermill": {
     "duration": 0.033287,
     "end_time": "2021-03-13T18:05:08.237066",
     "exception": false,
     "start_time": "2021-03-13T18:05:08.203779",
     "status": "completed"
    },
    "tags": []
   },
   "source": [
    "**Libraries Imported**"
   ]
  },
  {
   "cell_type": "code",
   "execution_count": 2,
   "metadata": {
    "execution": {
     "iopub.execute_input": "2021-03-13T18:05:08.311795Z",
     "iopub.status.busy": "2021-03-13T18:05:08.311021Z",
     "iopub.status.idle": "2021-03-13T18:05:09.679264Z",
     "shell.execute_reply": "2021-03-13T18:05:09.679775Z"
    },
    "papermill": {
     "duration": 1.408764,
     "end_time": "2021-03-13T18:05:09.679956",
     "exception": false,
     "start_time": "2021-03-13T18:05:08.271192",
     "status": "completed"
    },
    "tags": []
   },
   "outputs": [],
   "source": [
    "import numpy as np\n",
    "import pandas as pd\n",
    "import warnings \n",
    "from sklearn.tree import DecisionTreeClassifier\n",
    "from sklearn.neighbors import KNeighborsClassifier\n",
    "from sklearn.svm import SVC\n",
    "from sklearn.naive_bayes import GaussianNB\n",
    "from sklearn.linear_model import LinearRegression,LogisticRegression\n",
    "import matplotlib.pyplot as plt\n",
    "from matplotlib.axes import Axes\n",
    "import seaborn as sns\n",
    "import matplotlib.pyplot as plt\n",
    "#import scikitplot as skplt\n",
    "from sklearn import preprocessing\n",
    "labelenc = preprocessing.LabelEncoder()"
   ]
  },
  {
   "cell_type": "markdown",
   "metadata": {
    "papermill": {
     "duration": 0.034176,
     "end_time": "2021-03-13T18:05:09.748429",
     "exception": false,
     "start_time": "2021-03-13T18:05:09.714253",
     "status": "completed"
    },
    "tags": []
   },
   "source": [
    "**Reading Files**"
   ]
  },
  {
   "cell_type": "code",
   "execution_count": 3,
   "metadata": {
    "execution": {
     "iopub.execute_input": "2021-03-13T18:05:09.821411Z",
     "iopub.status.busy": "2021-03-13T18:05:09.820721Z",
     "iopub.status.idle": "2021-03-13T18:05:09.828165Z",
     "shell.execute_reply": "2021-03-13T18:05:09.827536Z"
    },
    "papermill": {
     "duration": 0.045734,
     "end_time": "2021-03-13T18:05:09.828301",
     "exception": false,
     "start_time": "2021-03-13T18:05:09.782567",
     "status": "completed"
    },
    "tags": []
   },
   "outputs": [
    {
     "data": {
      "text/plain": [
       "['Hotel-A-test.csv', 'Hotel-A-train.csv', 'Hotel-A-validation.csv']"
      ]
     },
     "execution_count": 3,
     "metadata": {},
     "output_type": "execute_result"
    }
   ],
   "source": [
    "import os\n",
    "os.listdir('/kaggle/input/hotel-reservation')"
   ]
  },
  {
   "cell_type": "code",
   "execution_count": 4,
   "metadata": {
    "execution": {
     "iopub.execute_input": "2021-03-13T18:05:09.904200Z",
     "iopub.status.busy": "2021-03-13T18:05:09.903496Z",
     "iopub.status.idle": "2021-03-13T18:05:10.141719Z",
     "shell.execute_reply": "2021-03-13T18:05:10.138365Z"
    },
    "papermill": {
     "duration": 0.278589,
     "end_time": "2021-03-13T18:05:10.141946",
     "exception": false,
     "start_time": "2021-03-13T18:05:09.863357",
     "status": "completed"
    },
    "tags": []
   },
   "outputs": [],
   "source": [
    "train = pd.read_csv('/kaggle/input/hotel-reservation/Hotel-A-train.csv')\n",
    "validation = pd.read_csv('/kaggle/input/hotel-reservation/Hotel-A-validation.csv')\n",
    "test = pd.read_csv('/kaggle/input/hotel-reservation/Hotel-A-test.csv')"
   ]
  },
  {
   "cell_type": "markdown",
   "metadata": {
    "papermill": {
     "duration": 0.034516,
     "end_time": "2021-03-13T18:05:10.213413",
     "exception": false,
     "start_time": "2021-03-13T18:05:10.178897",
     "status": "completed"
    },
    "tags": []
   },
   "source": [
    "**Exploratory data analysis**"
   ]
  },
  {
   "cell_type": "markdown",
   "metadata": {
    "papermill": {
     "duration": 0.035322,
     "end_time": "2021-03-13T18:05:10.285345",
     "exception": false,
     "start_time": "2021-03-13T18:05:10.250023",
     "status": "completed"
    },
    "tags": []
   },
   "source": [
    "Visualizing the data"
   ]
  },
  {
   "cell_type": "markdown",
   "metadata": {
    "papermill": {
     "duration": 0.03482,
     "end_time": "2021-03-13T18:05:10.355577",
     "exception": false,
     "start_time": "2021-03-13T18:05:10.320757",
     "status": "completed"
    },
    "tags": []
   },
   "source": [
    "Train data"
   ]
  },
  {
   "cell_type": "code",
   "execution_count": 5,
   "metadata": {
    "execution": {
     "iopub.execute_input": "2021-03-13T18:05:10.444357Z",
     "iopub.status.busy": "2021-03-13T18:05:10.443665Z",
     "iopub.status.idle": "2021-03-13T18:05:10.473375Z",
     "shell.execute_reply": "2021-03-13T18:05:10.472856Z"
    },
    "papermill": {
     "duration": 0.082457,
     "end_time": "2021-03-13T18:05:10.473520",
     "exception": false,
     "start_time": "2021-03-13T18:05:10.391063",
     "status": "completed"
    },
    "tags": []
   },
   "outputs": [
    {
     "data": {
      "text/html": [
       "<div>\n",
       "<style scoped>\n",
       "    .dataframe tbody tr th:only-of-type {\n",
       "        vertical-align: middle;\n",
       "    }\n",
       "\n",
       "    .dataframe tbody tr th {\n",
       "        vertical-align: top;\n",
       "    }\n",
       "\n",
       "    .dataframe thead th {\n",
       "        text-align: right;\n",
       "    }\n",
       "</style>\n",
       "<table border=\"1\" class=\"dataframe\">\n",
       "  <thead>\n",
       "    <tr style=\"text-align: right;\">\n",
       "      <th></th>\n",
       "      <th>Reservation-id</th>\n",
       "      <th>Gender</th>\n",
       "      <th>Age</th>\n",
       "      <th>Ethnicity</th>\n",
       "      <th>Educational_Level</th>\n",
       "      <th>Income</th>\n",
       "      <th>Country_region</th>\n",
       "      <th>Hotel_Type</th>\n",
       "      <th>Expected_checkin</th>\n",
       "      <th>Expected_checkout</th>\n",
       "      <th>...</th>\n",
       "      <th>Meal_Type</th>\n",
       "      <th>Visted_Previously</th>\n",
       "      <th>Previous_Cancellations</th>\n",
       "      <th>Deposit_type</th>\n",
       "      <th>Booking_channel</th>\n",
       "      <th>Required_Car_Parking</th>\n",
       "      <th>Reservation_Status</th>\n",
       "      <th>Use_Promotion</th>\n",
       "      <th>Discount_Rate</th>\n",
       "      <th>Room_Rate</th>\n",
       "    </tr>\n",
       "  </thead>\n",
       "  <tbody>\n",
       "    <tr>\n",
       "      <th>0</th>\n",
       "      <td>39428300</td>\n",
       "      <td>F</td>\n",
       "      <td>40</td>\n",
       "      <td>Latino</td>\n",
       "      <td>Grad</td>\n",
       "      <td>&lt;25K</td>\n",
       "      <td>North</td>\n",
       "      <td>City Hotel</td>\n",
       "      <td>7/1/2015</td>\n",
       "      <td>7/2/2015</td>\n",
       "      <td>...</td>\n",
       "      <td>BB</td>\n",
       "      <td>No</td>\n",
       "      <td>No</td>\n",
       "      <td>No Deposit</td>\n",
       "      <td>Online</td>\n",
       "      <td>Yes</td>\n",
       "      <td>Check-In</td>\n",
       "      <td>Yes</td>\n",
       "      <td>10</td>\n",
       "      <td>218</td>\n",
       "    </tr>\n",
       "    <tr>\n",
       "      <th>1</th>\n",
       "      <td>77491756</td>\n",
       "      <td>F</td>\n",
       "      <td>49</td>\n",
       "      <td>Latino</td>\n",
       "      <td>Mid-School</td>\n",
       "      <td>50K -- 100K</td>\n",
       "      <td>East</td>\n",
       "      <td>City Hotel</td>\n",
       "      <td>7/1/2015</td>\n",
       "      <td>7/2/2015</td>\n",
       "      <td>...</td>\n",
       "      <td>BB</td>\n",
       "      <td>No</td>\n",
       "      <td>No</td>\n",
       "      <td>Refundable</td>\n",
       "      <td>Online</td>\n",
       "      <td>Yes</td>\n",
       "      <td>Check-In</td>\n",
       "      <td>No</td>\n",
       "      <td>0</td>\n",
       "      <td>185</td>\n",
       "    </tr>\n",
       "    <tr>\n",
       "      <th>2</th>\n",
       "      <td>73747291</td>\n",
       "      <td>F</td>\n",
       "      <td>42</td>\n",
       "      <td>caucasian</td>\n",
       "      <td>Grad</td>\n",
       "      <td>&lt;25K</td>\n",
       "      <td>East</td>\n",
       "      <td>City Hotel</td>\n",
       "      <td>7/2/2015</td>\n",
       "      <td>7/6/2015</td>\n",
       "      <td>...</td>\n",
       "      <td>BB</td>\n",
       "      <td>No</td>\n",
       "      <td>No</td>\n",
       "      <td>No Deposit</td>\n",
       "      <td>Online</td>\n",
       "      <td>Yes</td>\n",
       "      <td>Check-In</td>\n",
       "      <td>No</td>\n",
       "      <td>0</td>\n",
       "      <td>119</td>\n",
       "    </tr>\n",
       "    <tr>\n",
       "      <th>3</th>\n",
       "      <td>67301739</td>\n",
       "      <td>M</td>\n",
       "      <td>25</td>\n",
       "      <td>African American</td>\n",
       "      <td>College</td>\n",
       "      <td>&gt;100K</td>\n",
       "      <td>South</td>\n",
       "      <td>Airport Hotels</td>\n",
       "      <td>7/2/2015</td>\n",
       "      <td>7/3/2015</td>\n",
       "      <td>...</td>\n",
       "      <td>BB</td>\n",
       "      <td>No</td>\n",
       "      <td>No</td>\n",
       "      <td>Refundable</td>\n",
       "      <td>Agent</td>\n",
       "      <td>Yes</td>\n",
       "      <td>Check-In</td>\n",
       "      <td>Yes</td>\n",
       "      <td>5</td>\n",
       "      <td>144</td>\n",
       "    </tr>\n",
       "    <tr>\n",
       "      <th>4</th>\n",
       "      <td>77222321</td>\n",
       "      <td>F</td>\n",
       "      <td>62</td>\n",
       "      <td>Latino</td>\n",
       "      <td>High-School</td>\n",
       "      <td>25K --50K</td>\n",
       "      <td>East</td>\n",
       "      <td>Resort</td>\n",
       "      <td>7/3/2015</td>\n",
       "      <td>7/4/2015</td>\n",
       "      <td>...</td>\n",
       "      <td>BB</td>\n",
       "      <td>No</td>\n",
       "      <td>No</td>\n",
       "      <td>No Deposit</td>\n",
       "      <td>Direct</td>\n",
       "      <td>No</td>\n",
       "      <td>Check-In</td>\n",
       "      <td>Yes</td>\n",
       "      <td>10</td>\n",
       "      <td>242</td>\n",
       "    </tr>\n",
       "  </tbody>\n",
       "</table>\n",
       "<p>5 rows × 24 columns</p>\n",
       "</div>"
      ],
      "text/plain": [
       "   Reservation-id Gender  Age         Ethnicity Educational_Level  \\\n",
       "0        39428300      F   40            Latino              Grad   \n",
       "1        77491756      F   49            Latino        Mid-School   \n",
       "2        73747291      F   42         caucasian              Grad   \n",
       "3        67301739      M   25  African American           College   \n",
       "4        77222321      F   62            Latino       High-School   \n",
       "\n",
       "        Income Country_region      Hotel_Type Expected_checkin  \\\n",
       "0         <25K          North      City Hotel         7/1/2015   \n",
       "1  50K -- 100K           East      City Hotel         7/1/2015   \n",
       "2         <25K           East      City Hotel         7/2/2015   \n",
       "3        >100K          South  Airport Hotels         7/2/2015   \n",
       "4    25K --50K           East          Resort         7/3/2015   \n",
       "\n",
       "  Expected_checkout  ... Meal_Type  Visted_Previously  Previous_Cancellations  \\\n",
       "0          7/2/2015  ...        BB                 No                      No   \n",
       "1          7/2/2015  ...        BB                 No                      No   \n",
       "2          7/6/2015  ...        BB                 No                      No   \n",
       "3          7/3/2015  ...        BB                 No                      No   \n",
       "4          7/4/2015  ...        BB                 No                      No   \n",
       "\n",
       "   Deposit_type Booking_channel Required_Car_Parking Reservation_Status  \\\n",
       "0    No Deposit          Online                  Yes           Check-In   \n",
       "1    Refundable          Online                  Yes           Check-In   \n",
       "2    No Deposit          Online                  Yes           Check-In   \n",
       "3    Refundable           Agent                  Yes           Check-In   \n",
       "4    No Deposit          Direct                   No           Check-In   \n",
       "\n",
       "  Use_Promotion Discount_Rate Room_Rate  \n",
       "0           Yes            10       218  \n",
       "1            No             0       185  \n",
       "2            No             0       119  \n",
       "3           Yes             5       144  \n",
       "4           Yes            10       242  \n",
       "\n",
       "[5 rows x 24 columns]"
      ]
     },
     "execution_count": 5,
     "metadata": {},
     "output_type": "execute_result"
    }
   ],
   "source": [
    "train.head()"
   ]
  },
  {
   "cell_type": "code",
   "execution_count": 6,
   "metadata": {
    "execution": {
     "iopub.execute_input": "2021-03-13T18:05:10.551899Z",
     "iopub.status.busy": "2021-03-13T18:05:10.551268Z",
     "iopub.status.idle": "2021-03-13T18:05:10.589668Z",
     "shell.execute_reply": "2021-03-13T18:05:10.589188Z"
    },
    "papermill": {
     "duration": 0.080804,
     "end_time": "2021-03-13T18:05:10.589827",
     "exception": false,
     "start_time": "2021-03-13T18:05:10.509023",
     "status": "completed"
    },
    "tags": []
   },
   "outputs": [
    {
     "data": {
      "text/html": [
       "<div>\n",
       "<style scoped>\n",
       "    .dataframe tbody tr th:only-of-type {\n",
       "        vertical-align: middle;\n",
       "    }\n",
       "\n",
       "    .dataframe tbody tr th {\n",
       "        vertical-align: top;\n",
       "    }\n",
       "\n",
       "    .dataframe thead th {\n",
       "        text-align: right;\n",
       "    }\n",
       "</style>\n",
       "<table border=\"1\" class=\"dataframe\">\n",
       "  <thead>\n",
       "    <tr style=\"text-align: right;\">\n",
       "      <th></th>\n",
       "      <th>count</th>\n",
       "      <th>mean</th>\n",
       "      <th>std</th>\n",
       "      <th>min</th>\n",
       "      <th>25%</th>\n",
       "      <th>50%</th>\n",
       "      <th>75%</th>\n",
       "      <th>max</th>\n",
       "    </tr>\n",
       "  </thead>\n",
       "  <tbody>\n",
       "    <tr>\n",
       "      <th>Reservation-id</th>\n",
       "      <td>27499.0</td>\n",
       "      <td>5.016461e+07</td>\n",
       "      <td>2.886911e+07</td>\n",
       "      <td>3154.0</td>\n",
       "      <td>25239432.0</td>\n",
       "      <td>50149955.0</td>\n",
       "      <td>75182883.0</td>\n",
       "      <td>99999005.0</td>\n",
       "    </tr>\n",
       "    <tr>\n",
       "      <th>Age</th>\n",
       "      <td>27499.0</td>\n",
       "      <td>4.397745e+01</td>\n",
       "      <td>1.530315e+01</td>\n",
       "      <td>18.0</td>\n",
       "      <td>31.0</td>\n",
       "      <td>44.0</td>\n",
       "      <td>57.0</td>\n",
       "      <td>70.0</td>\n",
       "    </tr>\n",
       "    <tr>\n",
       "      <th>Adults</th>\n",
       "      <td>27499.0</td>\n",
       "      <td>2.333576e+00</td>\n",
       "      <td>1.176526e+00</td>\n",
       "      <td>1.0</td>\n",
       "      <td>2.0</td>\n",
       "      <td>2.0</td>\n",
       "      <td>3.0</td>\n",
       "      <td>5.0</td>\n",
       "    </tr>\n",
       "    <tr>\n",
       "      <th>Children</th>\n",
       "      <td>27499.0</td>\n",
       "      <td>1.743882e+00</td>\n",
       "      <td>7.219721e-01</td>\n",
       "      <td>1.0</td>\n",
       "      <td>1.0</td>\n",
       "      <td>2.0</td>\n",
       "      <td>2.0</td>\n",
       "      <td>3.0</td>\n",
       "    </tr>\n",
       "    <tr>\n",
       "      <th>Babies</th>\n",
       "      <td>27499.0</td>\n",
       "      <td>3.515401e-01</td>\n",
       "      <td>5.733259e-01</td>\n",
       "      <td>0.0</td>\n",
       "      <td>0.0</td>\n",
       "      <td>0.0</td>\n",
       "      <td>1.0</td>\n",
       "      <td>2.0</td>\n",
       "    </tr>\n",
       "    <tr>\n",
       "      <th>Discount_Rate</th>\n",
       "      <td>27499.0</td>\n",
       "      <td>1.249518e+01</td>\n",
       "      <td>1.120604e+01</td>\n",
       "      <td>0.0</td>\n",
       "      <td>5.0</td>\n",
       "      <td>10.0</td>\n",
       "      <td>20.0</td>\n",
       "      <td>40.0</td>\n",
       "    </tr>\n",
       "    <tr>\n",
       "      <th>Room_Rate</th>\n",
       "      <td>27499.0</td>\n",
       "      <td>1.751365e+02</td>\n",
       "      <td>4.387709e+01</td>\n",
       "      <td>100.0</td>\n",
       "      <td>137.0</td>\n",
       "      <td>175.0</td>\n",
       "      <td>214.0</td>\n",
       "      <td>250.0</td>\n",
       "    </tr>\n",
       "  </tbody>\n",
       "</table>\n",
       "</div>"
      ],
      "text/plain": [
       "                  count          mean           std     min         25%  \\\n",
       "Reservation-id  27499.0  5.016461e+07  2.886911e+07  3154.0  25239432.0   \n",
       "Age             27499.0  4.397745e+01  1.530315e+01    18.0        31.0   \n",
       "Adults          27499.0  2.333576e+00  1.176526e+00     1.0         2.0   \n",
       "Children        27499.0  1.743882e+00  7.219721e-01     1.0         1.0   \n",
       "Babies          27499.0  3.515401e-01  5.733259e-01     0.0         0.0   \n",
       "Discount_Rate   27499.0  1.249518e+01  1.120604e+01     0.0         5.0   \n",
       "Room_Rate       27499.0  1.751365e+02  4.387709e+01   100.0       137.0   \n",
       "\n",
       "                       50%         75%         max  \n",
       "Reservation-id  50149955.0  75182883.0  99999005.0  \n",
       "Age                   44.0        57.0        70.0  \n",
       "Adults                 2.0         3.0         5.0  \n",
       "Children               2.0         2.0         3.0  \n",
       "Babies                 0.0         1.0         2.0  \n",
       "Discount_Rate         10.0        20.0        40.0  \n",
       "Room_Rate            175.0       214.0       250.0  "
      ]
     },
     "execution_count": 6,
     "metadata": {},
     "output_type": "execute_result"
    }
   ],
   "source": [
    "train.describe().transpose()"
   ]
  },
  {
   "cell_type": "code",
   "execution_count": 7,
   "metadata": {
    "execution": {
     "iopub.execute_input": "2021-03-13T18:05:10.714076Z",
     "iopub.status.busy": "2021-03-13T18:05:10.713121Z",
     "iopub.status.idle": "2021-03-13T18:05:10.730208Z",
     "shell.execute_reply": "2021-03-13T18:05:10.730965Z"
    },
    "papermill": {
     "duration": 0.105591,
     "end_time": "2021-03-13T18:05:10.731387",
     "exception": false,
     "start_time": "2021-03-13T18:05:10.625796",
     "status": "completed"
    },
    "tags": []
   },
   "outputs": [
    {
     "name": "stdout",
     "output_type": "stream",
     "text": [
      "<class 'pandas.core.frame.DataFrame'>\n",
      "RangeIndex: 27499 entries, 0 to 27498\n",
      "Data columns (total 24 columns):\n",
      " #   Column                  Non-Null Count  Dtype \n",
      "---  ------                  --------------  ----- \n",
      " 0   Reservation-id          27499 non-null  int64 \n",
      " 1   Gender                  27499 non-null  object\n",
      " 2   Age                     27499 non-null  int64 \n",
      " 3   Ethnicity               27499 non-null  object\n",
      " 4   Educational_Level       27499 non-null  object\n",
      " 5   Income                  27499 non-null  object\n",
      " 6   Country_region          27499 non-null  object\n",
      " 7   Hotel_Type              27499 non-null  object\n",
      " 8   Expected_checkin        27499 non-null  object\n",
      " 9   Expected_checkout       27499 non-null  object\n",
      " 10  Booking_date            27499 non-null  object\n",
      " 11  Adults                  27499 non-null  int64 \n",
      " 12  Children                27499 non-null  int64 \n",
      " 13  Babies                  27499 non-null  int64 \n",
      " 14  Meal_Type               27499 non-null  object\n",
      " 15  Visted_Previously       27499 non-null  object\n",
      " 16  Previous_Cancellations  27499 non-null  object\n",
      " 17  Deposit_type            27499 non-null  object\n",
      " 18  Booking_channel         27499 non-null  object\n",
      " 19  Required_Car_Parking    27499 non-null  object\n",
      " 20  Reservation_Status      27499 non-null  object\n",
      " 21  Use_Promotion           27499 non-null  object\n",
      " 22  Discount_Rate           27499 non-null  int64 \n",
      " 23  Room_Rate               27499 non-null  int64 \n",
      "dtypes: int64(7), object(17)\n",
      "memory usage: 5.0+ MB\n"
     ]
    }
   ],
   "source": [
    "train.info()"
   ]
  },
  {
   "cell_type": "code",
   "execution_count": 8,
   "metadata": {
    "execution": {
     "iopub.execute_input": "2021-03-13T18:05:10.812124Z",
     "iopub.status.busy": "2021-03-13T18:05:10.811202Z",
     "iopub.status.idle": "2021-03-13T18:05:10.815109Z",
     "shell.execute_reply": "2021-03-13T18:05:10.815565Z"
    },
    "papermill": {
     "duration": 0.046623,
     "end_time": "2021-03-13T18:05:10.815754",
     "exception": false,
     "start_time": "2021-03-13T18:05:10.769131",
     "status": "completed"
    },
    "tags": []
   },
   "outputs": [
    {
     "data": {
      "text/plain": [
       "Index(['Reservation-id', 'Gender', 'Age', 'Ethnicity', 'Educational_Level',\n",
       "       'Income', 'Country_region', 'Hotel_Type', 'Expected_checkin',\n",
       "       'Expected_checkout', 'Booking_date', 'Adults', 'Children', 'Babies',\n",
       "       'Meal_Type', 'Visted_Previously', 'Previous_Cancellations',\n",
       "       'Deposit_type', 'Booking_channel', 'Required_Car_Parking',\n",
       "       'Reservation_Status', 'Use_Promotion', 'Discount_Rate', 'Room_Rate'],\n",
       "      dtype='object')"
      ]
     },
     "execution_count": 8,
     "metadata": {},
     "output_type": "execute_result"
    }
   ],
   "source": [
    "train.columns"
   ]
  },
  {
   "cell_type": "code",
   "execution_count": 9,
   "metadata": {
    "execution": {
     "iopub.execute_input": "2021-03-13T18:05:10.942333Z",
     "iopub.status.busy": "2021-03-13T18:05:10.941372Z",
     "iopub.status.idle": "2021-03-13T18:05:10.949855Z",
     "shell.execute_reply": "2021-03-13T18:05:10.949256Z"
    },
    "papermill": {
     "duration": 0.096905,
     "end_time": "2021-03-13T18:05:10.949990",
     "exception": false,
     "start_time": "2021-03-13T18:05:10.853085",
     "status": "completed"
    },
    "tags": []
   },
   "outputs": [
    {
     "data": {
      "text/plain": [
       "Reservation-id            0\n",
       "Gender                    0\n",
       "Age                       0\n",
       "Ethnicity                 0\n",
       "Educational_Level         0\n",
       "Income                    0\n",
       "Country_region            0\n",
       "Hotel_Type                0\n",
       "Expected_checkin          0\n",
       "Expected_checkout         0\n",
       "Booking_date              0\n",
       "Adults                    0\n",
       "Children                  0\n",
       "Babies                    0\n",
       "Meal_Type                 0\n",
       "Visted_Previously         0\n",
       "Previous_Cancellations    0\n",
       "Deposit_type              0\n",
       "Booking_channel           0\n",
       "Required_Car_Parking      0\n",
       "Reservation_Status        0\n",
       "Use_Promotion             0\n",
       "Discount_Rate             0\n",
       "Room_Rate                 0\n",
       "dtype: int64"
      ]
     },
     "execution_count": 9,
     "metadata": {},
     "output_type": "execute_result"
    }
   ],
   "source": [
    "train.isnull().sum()"
   ]
  },
  {
   "cell_type": "code",
   "execution_count": 10,
   "metadata": {
    "execution": {
     "iopub.execute_input": "2021-03-13T18:05:11.031200Z",
     "iopub.status.busy": "2021-03-13T18:05:11.030495Z",
     "iopub.status.idle": "2021-03-13T18:05:11.818610Z",
     "shell.execute_reply": "2021-03-13T18:05:11.819131Z"
    },
    "papermill": {
     "duration": 0.831391,
     "end_time": "2021-03-13T18:05:11.819298",
     "exception": false,
     "start_time": "2021-03-13T18:05:10.987907",
     "status": "completed"
    },
    "tags": []
   },
   "outputs": [
    {
     "data": {
      "image/png": "[encoded data removed]",
      "text/plain": [
       "<Figure size 1800x720 with 2 Axes>"
      ]
     },
     "metadata": {
      "needs_background": "light"
     },
     "output_type": "display_data"
    }
   ],
   "source": [
    "#visualizing missing data\n",
    "import missingno as msno\n",
    "\n",
    "msno.matrix(train)\n",
    "plt.show()"
   ]
  },
  {
   "cell_type": "markdown",
   "metadata": {
    "papermill": {
     "duration": 0.03943,
     "end_time": "2021-03-13T18:05:11.900071",
     "exception": false,
     "start_time": "2021-03-13T18:05:11.860641",
     "status": "completed"
    },
    "tags": []
   },
   "source": [
    "Validation set"
   ]
  },
  {
   "cell_type": "code",
   "execution_count": 11,
   "metadata": {
    "execution": {
     "iopub.execute_input": "2021-03-13T18:05:11.986559Z",
     "iopub.status.busy": "2021-03-13T18:05:11.985931Z",
     "iopub.status.idle": "2021-03-13T18:05:12.009449Z",
     "shell.execute_reply": "2021-03-13T18:05:12.009971Z"
    },
    "papermill": {
     "duration": 0.070066,
     "end_time": "2021-03-13T18:05:12.010138",
     "exception": false,
     "start_time": "2021-03-13T18:05:11.940072",
     "status": "completed"
    },
    "tags": []
   },
   "outputs": [
    {
     "data": {
      "text/html": [
       "<div>\n",
       "<style scoped>\n",
       "    .dataframe tbody tr th:only-of-type {\n",
       "        vertical-align: middle;\n",
       "    }\n",
       "\n",
       "    .dataframe tbody tr th {\n",
       "        vertical-align: top;\n",
       "    }\n",
       "\n",
       "    .dataframe thead th {\n",
       "        text-align: right;\n",
       "    }\n",
       "</style>\n",
       "<table border=\"1\" class=\"dataframe\">\n",
       "  <thead>\n",
       "    <tr style=\"text-align: right;\">\n",
       "      <th></th>\n",
       "      <th>Reservation-id</th>\n",
       "      <th>Gender</th>\n",
       "      <th>Age</th>\n",
       "      <th>Ethnicity</th>\n",
       "      <th>Educational_Level</th>\n",
       "      <th>Income</th>\n",
       "      <th>Country_region</th>\n",
       "      <th>Hotel_Type</th>\n",
       "      <th>Expected_checkin</th>\n",
       "      <th>Expected_checkout</th>\n",
       "      <th>...</th>\n",
       "      <th>Meal_Type</th>\n",
       "      <th>Visted_Previously</th>\n",
       "      <th>Previous_Cancellations</th>\n",
       "      <th>Deposit_type</th>\n",
       "      <th>Booking_channel</th>\n",
       "      <th>Required_Car_Parking</th>\n",
       "      <th>Reservation_Status</th>\n",
       "      <th>Use_Promotion</th>\n",
       "      <th>Discount_Rate</th>\n",
       "      <th>Room_Rate</th>\n",
       "    </tr>\n",
       "  </thead>\n",
       "  <tbody>\n",
       "    <tr>\n",
       "      <th>0</th>\n",
       "      <td>45716350</td>\n",
       "      <td>M</td>\n",
       "      <td>56</td>\n",
       "      <td>caucasian</td>\n",
       "      <td>Grad</td>\n",
       "      <td>&lt;25K</td>\n",
       "      <td>West</td>\n",
       "      <td>Resort</td>\n",
       "      <td>8/31/2016</td>\n",
       "      <td>9/2/2016</td>\n",
       "      <td>...</td>\n",
       "      <td>HB</td>\n",
       "      <td>No</td>\n",
       "      <td>No</td>\n",
       "      <td>No Deposit</td>\n",
       "      <td>Agent</td>\n",
       "      <td>No</td>\n",
       "      <td>No-Show</td>\n",
       "      <td>Yes</td>\n",
       "      <td>15</td>\n",
       "      <td>192</td>\n",
       "    </tr>\n",
       "    <tr>\n",
       "      <th>1</th>\n",
       "      <td>88857401</td>\n",
       "      <td>M</td>\n",
       "      <td>60</td>\n",
       "      <td>Latino</td>\n",
       "      <td>College</td>\n",
       "      <td>25K --50K</td>\n",
       "      <td>West</td>\n",
       "      <td>Resort</td>\n",
       "      <td>8/31/2016</td>\n",
       "      <td>9/4/2016</td>\n",
       "      <td>...</td>\n",
       "      <td>FB</td>\n",
       "      <td>Yes</td>\n",
       "      <td>No</td>\n",
       "      <td>No Deposit</td>\n",
       "      <td>Online</td>\n",
       "      <td>Yes</td>\n",
       "      <td>Canceled</td>\n",
       "      <td>No</td>\n",
       "      <td>0</td>\n",
       "      <td>187</td>\n",
       "    </tr>\n",
       "    <tr>\n",
       "      <th>2</th>\n",
       "      <td>16074440</td>\n",
       "      <td>F</td>\n",
       "      <td>58</td>\n",
       "      <td>Asian American</td>\n",
       "      <td>College</td>\n",
       "      <td>&lt;25K</td>\n",
       "      <td>North</td>\n",
       "      <td>Airport Hotels</td>\n",
       "      <td>9/1/2016</td>\n",
       "      <td>9/2/2016</td>\n",
       "      <td>...</td>\n",
       "      <td>FB</td>\n",
       "      <td>No</td>\n",
       "      <td>No</td>\n",
       "      <td>No Deposit</td>\n",
       "      <td>Direct</td>\n",
       "      <td>No</td>\n",
       "      <td>Canceled</td>\n",
       "      <td>Yes</td>\n",
       "      <td>10</td>\n",
       "      <td>227</td>\n",
       "    </tr>\n",
       "    <tr>\n",
       "      <th>3</th>\n",
       "      <td>10992124</td>\n",
       "      <td>F</td>\n",
       "      <td>23</td>\n",
       "      <td>Latino</td>\n",
       "      <td>College</td>\n",
       "      <td>25K --50K</td>\n",
       "      <td>East</td>\n",
       "      <td>Airport Hotels</td>\n",
       "      <td>8/31/2016</td>\n",
       "      <td>9/2/2016</td>\n",
       "      <td>...</td>\n",
       "      <td>FB</td>\n",
       "      <td>Yes</td>\n",
       "      <td>No</td>\n",
       "      <td>Refundable</td>\n",
       "      <td>Direct</td>\n",
       "      <td>No</td>\n",
       "      <td>Check-In</td>\n",
       "      <td>Yes</td>\n",
       "      <td>25</td>\n",
       "      <td>189</td>\n",
       "    </tr>\n",
       "    <tr>\n",
       "      <th>4</th>\n",
       "      <td>15934351</td>\n",
       "      <td>F</td>\n",
       "      <td>47</td>\n",
       "      <td>Asian American</td>\n",
       "      <td>College</td>\n",
       "      <td>25K --50K</td>\n",
       "      <td>South</td>\n",
       "      <td>City Hotel</td>\n",
       "      <td>8/31/2016</td>\n",
       "      <td>9/1/2016</td>\n",
       "      <td>...</td>\n",
       "      <td>HB</td>\n",
       "      <td>Yes</td>\n",
       "      <td>No</td>\n",
       "      <td>No Deposit</td>\n",
       "      <td>Online</td>\n",
       "      <td>Yes</td>\n",
       "      <td>Check-In</td>\n",
       "      <td>Yes</td>\n",
       "      <td>10</td>\n",
       "      <td>218</td>\n",
       "    </tr>\n",
       "  </tbody>\n",
       "</table>\n",
       "<p>5 rows × 24 columns</p>\n",
       "</div>"
      ],
      "text/plain": [
       "   Reservation-id Gender  Age       Ethnicity Educational_Level     Income  \\\n",
       "0        45716350      M   56       caucasian              Grad       <25K   \n",
       "1        88857401      M   60          Latino           College  25K --50K   \n",
       "2        16074440      F   58  Asian American           College       <25K   \n",
       "3        10992124      F   23          Latino           College  25K --50K   \n",
       "4        15934351      F   47  Asian American           College  25K --50K   \n",
       "\n",
       "  Country_region      Hotel_Type Expected_checkin Expected_checkout  ...  \\\n",
       "0           West          Resort        8/31/2016          9/2/2016  ...   \n",
       "1           West          Resort        8/31/2016          9/4/2016  ...   \n",
       "2          North  Airport Hotels         9/1/2016          9/2/2016  ...   \n",
       "3           East  Airport Hotels        8/31/2016          9/2/2016  ...   \n",
       "4          South      City Hotel        8/31/2016          9/1/2016  ...   \n",
       "\n",
       "  Meal_Type  Visted_Previously  Previous_Cancellations  Deposit_type  \\\n",
       "0        HB                 No                      No    No Deposit   \n",
       "1        FB                Yes                      No    No Deposit   \n",
       "2        FB                 No                      No    No Deposit   \n",
       "3        FB                Yes                      No    Refundable   \n",
       "4        HB                Yes                      No    No Deposit   \n",
       "\n",
       "  Booking_channel Required_Car_Parking Reservation_Status Use_Promotion  \\\n",
       "0           Agent                   No            No-Show           Yes   \n",
       "1          Online                  Yes           Canceled            No   \n",
       "2          Direct                   No           Canceled           Yes   \n",
       "3          Direct                   No           Check-In           Yes   \n",
       "4          Online                  Yes           Check-In           Yes   \n",
       "\n",
       "  Discount_Rate Room_Rate  \n",
       "0            15       192  \n",
       "1             0       187  \n",
       "2            10       227  \n",
       "3            25       189  \n",
       "4            10       218  \n",
       "\n",
       "[5 rows x 24 columns]"
      ]
     },
     "execution_count": 11,
     "metadata": {},
     "output_type": "execute_result"
    }
   ],
   "source": [
    "validation.head()"
   ]
  },
  {
   "cell_type": "code",
   "execution_count": 12,
   "metadata": {
    "execution": {
     "iopub.execute_input": "2021-03-13T18:05:12.100345Z",
     "iopub.status.busy": "2021-03-13T18:05:12.099721Z",
     "iopub.status.idle": "2021-03-13T18:05:12.130992Z",
     "shell.execute_reply": "2021-03-13T18:05:12.130452Z"
    },
    "papermill": {
     "duration": 0.079324,
     "end_time": "2021-03-13T18:05:12.131144",
     "exception": false,
     "start_time": "2021-03-13T18:05:12.051820",
     "status": "completed"
    },
    "tags": []
   },
   "outputs": [
    {
     "data": {
      "text/html": [
       "<div>\n",
       "<style scoped>\n",
       "    .dataframe tbody tr th:only-of-type {\n",
       "        vertical-align: middle;\n",
       "    }\n",
       "\n",
       "    .dataframe tbody tr th {\n",
       "        vertical-align: top;\n",
       "    }\n",
       "\n",
       "    .dataframe thead th {\n",
       "        text-align: right;\n",
       "    }\n",
       "</style>\n",
       "<table border=\"1\" class=\"dataframe\">\n",
       "  <thead>\n",
       "    <tr style=\"text-align: right;\">\n",
       "      <th></th>\n",
       "      <th>count</th>\n",
       "      <th>mean</th>\n",
       "      <th>std</th>\n",
       "      <th>min</th>\n",
       "      <th>25%</th>\n",
       "      <th>50%</th>\n",
       "      <th>75%</th>\n",
       "      <th>max</th>\n",
       "    </tr>\n",
       "  </thead>\n",
       "  <tbody>\n",
       "    <tr>\n",
       "      <th>Reservation-id</th>\n",
       "      <td>2749.0</td>\n",
       "      <td>4.991827e+07</td>\n",
       "      <td>2.888011e+07</td>\n",
       "      <td>143.0</td>\n",
       "      <td>24843132.0</td>\n",
       "      <td>49328761.0</td>\n",
       "      <td>74712969.0</td>\n",
       "      <td>99988487.0</td>\n",
       "    </tr>\n",
       "    <tr>\n",
       "      <th>Age</th>\n",
       "      <td>2749.0</td>\n",
       "      <td>4.419680e+01</td>\n",
       "      <td>1.521221e+01</td>\n",
       "      <td>18.0</td>\n",
       "      <td>31.0</td>\n",
       "      <td>44.0</td>\n",
       "      <td>57.0</td>\n",
       "      <td>70.0</td>\n",
       "    </tr>\n",
       "    <tr>\n",
       "      <th>Adults</th>\n",
       "      <td>2749.0</td>\n",
       "      <td>2.336850e+00</td>\n",
       "      <td>1.185808e+00</td>\n",
       "      <td>1.0</td>\n",
       "      <td>1.0</td>\n",
       "      <td>2.0</td>\n",
       "      <td>3.0</td>\n",
       "      <td>5.0</td>\n",
       "    </tr>\n",
       "    <tr>\n",
       "      <th>Children</th>\n",
       "      <td>2749.0</td>\n",
       "      <td>1.740633e+00</td>\n",
       "      <td>7.249131e-01</td>\n",
       "      <td>1.0</td>\n",
       "      <td>1.0</td>\n",
       "      <td>2.0</td>\n",
       "      <td>2.0</td>\n",
       "      <td>3.0</td>\n",
       "    </tr>\n",
       "    <tr>\n",
       "      <th>Babies</th>\n",
       "      <td>2749.0</td>\n",
       "      <td>3.339396e-01</td>\n",
       "      <td>5.669973e-01</td>\n",
       "      <td>0.0</td>\n",
       "      <td>0.0</td>\n",
       "      <td>0.0</td>\n",
       "      <td>1.0</td>\n",
       "      <td>2.0</td>\n",
       "    </tr>\n",
       "    <tr>\n",
       "      <th>Discount_Rate</th>\n",
       "      <td>2749.0</td>\n",
       "      <td>1.248454e+01</td>\n",
       "      <td>1.116618e+01</td>\n",
       "      <td>0.0</td>\n",
       "      <td>5.0</td>\n",
       "      <td>10.0</td>\n",
       "      <td>20.0</td>\n",
       "      <td>40.0</td>\n",
       "    </tr>\n",
       "    <tr>\n",
       "      <th>Room_Rate</th>\n",
       "      <td>2749.0</td>\n",
       "      <td>1.737425e+02</td>\n",
       "      <td>4.388018e+01</td>\n",
       "      <td>100.0</td>\n",
       "      <td>136.0</td>\n",
       "      <td>173.0</td>\n",
       "      <td>212.0</td>\n",
       "      <td>250.0</td>\n",
       "    </tr>\n",
       "  </tbody>\n",
       "</table>\n",
       "</div>"
      ],
      "text/plain": [
       "                 count          mean           std    min         25%  \\\n",
       "Reservation-id  2749.0  4.991827e+07  2.888011e+07  143.0  24843132.0   \n",
       "Age             2749.0  4.419680e+01  1.521221e+01   18.0        31.0   \n",
       "Adults          2749.0  2.336850e+00  1.185808e+00    1.0         1.0   \n",
       "Children        2749.0  1.740633e+00  7.249131e-01    1.0         1.0   \n",
       "Babies          2749.0  3.339396e-01  5.669973e-01    0.0         0.0   \n",
       "Discount_Rate   2749.0  1.248454e+01  1.116618e+01    0.0         5.0   \n",
       "Room_Rate       2749.0  1.737425e+02  4.388018e+01  100.0       136.0   \n",
       "\n",
       "                       50%         75%         max  \n",
       "Reservation-id  49328761.0  74712969.0  99988487.0  \n",
       "Age                   44.0        57.0        70.0  \n",
       "Adults                 2.0         3.0         5.0  \n",
       "Children               2.0         2.0         3.0  \n",
       "Babies                 0.0         1.0         2.0  \n",
       "Discount_Rate         10.0        20.0        40.0  \n",
       "Room_Rate            173.0       212.0       250.0  "
      ]
     },
     "execution_count": 12,
     "metadata": {},
     "output_type": "execute_result"
    }
   ],
   "source": [
    "validation.describe().transpose()"
   ]
  },
  {
   "cell_type": "code",
   "execution_count": 13,
   "metadata": {
    "execution": {
     "iopub.execute_input": "2021-03-13T18:05:12.249893Z",
     "iopub.status.busy": "2021-03-13T18:05:12.249197Z",
     "iopub.status.idle": "2021-03-13T18:05:12.267443Z",
     "shell.execute_reply": "2021-03-13T18:05:12.266754Z"
    },
    "papermill": {
     "duration": 0.077608,
     "end_time": "2021-03-13T18:05:12.267585",
     "exception": false,
     "start_time": "2021-03-13T18:05:12.189977",
     "status": "completed"
    },
    "tags": []
   },
   "outputs": [
    {
     "name": "stdout",
     "output_type": "stream",
     "text": [
      "<class 'pandas.core.frame.DataFrame'>\n",
      "RangeIndex: 2749 entries, 0 to 2748\n",
      "Data columns (total 24 columns):\n",
      " #   Column                  Non-Null Count  Dtype \n",
      "---  ------                  --------------  ----- \n",
      " 0   Reservation-id          2749 non-null   int64 \n",
      " 1   Gender                  2749 non-null   object\n",
      " 2   Age                     2749 non-null   int64 \n",
      " 3   Ethnicity               2749 non-null   object\n",
      " 4   Educational_Level       2749 non-null   object\n",
      " 5   Income                  2749 non-null   object\n",
      " 6   Country_region          2749 non-null   object\n",
      " 7   Hotel_Type              2749 non-null   object\n",
      " 8   Expected_checkin        2749 non-null   object\n",
      " 9   Expected_checkout       2749 non-null   object\n",
      " 10  Booking_date            2749 non-null   object\n",
      " 11  Adults                  2749 non-null   int64 \n",
      " 12  Children                2749 non-null   int64 \n",
      " 13  Babies                  2749 non-null   int64 \n",
      " 14  Meal_Type               2749 non-null   object\n",
      " 15  Visted_Previously       2749 non-null   object\n",
      " 16  Previous_Cancellations  2749 non-null   object\n",
      " 17  Deposit_type            2749 non-null   object\n",
      " 18  Booking_channel         2749 non-null   object\n",
      " 19  Required_Car_Parking    2749 non-null   object\n",
      " 20  Reservation_Status      2749 non-null   object\n",
      " 21  Use_Promotion           2749 non-null   object\n",
      " 22  Discount_Rate           2749 non-null   int64 \n",
      " 23  Room_Rate               2749 non-null   int64 \n",
      "dtypes: int64(7), object(17)\n",
      "memory usage: 515.6+ KB\n"
     ]
    }
   ],
   "source": [
    "validation.info()"
   ]
  },
  {
   "cell_type": "code",
   "execution_count": 14,
   "metadata": {
    "execution": {
     "iopub.execute_input": "2021-03-13T18:05:12.361609Z",
     "iopub.status.busy": "2021-03-13T18:05:12.360967Z",
     "iopub.status.idle": "2021-03-13T18:05:12.366129Z",
     "shell.execute_reply": "2021-03-13T18:05:12.366643Z"
    },
    "papermill": {
     "duration": 0.050459,
     "end_time": "2021-03-13T18:05:12.366835",
     "exception": false,
     "start_time": "2021-03-13T18:05:12.316376",
     "status": "completed"
    },
    "tags": []
   },
   "outputs": [
    {
     "data": {
      "text/plain": [
       "Index(['Reservation-id', 'Gender', 'Age', 'Ethnicity', 'Educational_Level',\n",
       "       'Income', 'Country_region', 'Hotel_Type', 'Expected_checkin',\n",
       "       'Expected_checkout', 'Booking_date', 'Adults', 'Children', 'Babies',\n",
       "       'Meal_Type', 'Visted_Previously', 'Previous_Cancellations',\n",
       "       'Deposit_type', 'Booking_channel', 'Required_Car_Parking',\n",
       "       'Reservation_Status', 'Use_Promotion', 'Discount_Rate', 'Room_Rate'],\n",
       "      dtype='object')"
      ]
     },
     "execution_count": 14,
     "metadata": {},
     "output_type": "execute_result"
    }
   ],
   "source": [
    "validation.columns"
   ]
  },
  {
   "cell_type": "code",
   "execution_count": 15,
   "metadata": {
    "execution": {
     "iopub.execute_input": "2021-03-13T18:05:12.455547Z",
     "iopub.status.busy": "2021-03-13T18:05:12.454878Z",
     "iopub.status.idle": "2021-03-13T18:05:12.466984Z",
     "shell.execute_reply": "2021-03-13T18:05:12.467445Z"
    },
    "papermill": {
     "duration": 0.058099,
     "end_time": "2021-03-13T18:05:12.467621",
     "exception": false,
     "start_time": "2021-03-13T18:05:12.409522",
     "status": "completed"
    },
    "tags": []
   },
   "outputs": [
    {
     "data": {
      "text/plain": [
       "Reservation-id            0\n",
       "Gender                    0\n",
       "Age                       0\n",
       "Ethnicity                 0\n",
       "Educational_Level         0\n",
       "Income                    0\n",
       "Country_region            0\n",
       "Hotel_Type                0\n",
       "Expected_checkin          0\n",
       "Expected_checkout         0\n",
       "Booking_date              0\n",
       "Adults                    0\n",
       "Children                  0\n",
       "Babies                    0\n",
       "Meal_Type                 0\n",
       "Visted_Previously         0\n",
       "Previous_Cancellations    0\n",
       "Deposit_type              0\n",
       "Booking_channel           0\n",
       "Required_Car_Parking      0\n",
       "Reservation_Status        0\n",
       "Use_Promotion             0\n",
       "Discount_Rate             0\n",
       "Room_Rate                 0\n",
       "dtype: int64"
      ]
     },
     "execution_count": 15,
     "metadata": {},
     "output_type": "execute_result"
    }
   ],
   "source": [
    "validation.isnull().sum()"
   ]
  },
  {
   "cell_type": "code",
   "execution_count": 16,
   "metadata": {
    "execution": {
     "iopub.execute_input": "2021-03-13T18:05:12.556836Z",
     "iopub.status.busy": "2021-03-13T18:05:12.556217Z",
     "iopub.status.idle": "2021-03-13T18:05:13.089984Z",
     "shell.execute_reply": "2021-03-13T18:05:13.089320Z"
    },
    "papermill": {
     "duration": 0.579386,
     "end_time": "2021-03-13T18:05:13.090128",
     "exception": false,
     "start_time": "2021-03-13T18:05:12.510742",
     "status": "completed"
    },
    "tags": []
   },
   "outputs": [
    {
     "data": {
      "image/png": "[encoded data removed]",
      "text/plain": [
       "<Figure size 1800x720 with 2 Axes>"
      ]
     },
     "metadata": {
      "needs_background": "light"
     },
     "output_type": "display_data"
    }
   ],
   "source": [
    "#visualizing missing data\n",
    "import missingno as msno\n",
    "\n",
    "msno.matrix(validation)\n",
    "plt.show()"
   ]
  },
  {
   "cell_type": "markdown",
   "metadata": {
    "papermill": {
     "duration": 0.045782,
     "end_time": "2021-03-13T18:05:13.182448",
     "exception": false,
     "start_time": "2021-03-13T18:05:13.136666",
     "status": "completed"
    },
    "tags": []
   },
   "source": [
    "Test set"
   ]
  },
  {
   "cell_type": "code",
   "execution_count": 17,
   "metadata": {
    "execution": {
     "iopub.execute_input": "2021-03-13T18:05:13.287251Z",
     "iopub.status.busy": "2021-03-13T18:05:13.286517Z",
     "iopub.status.idle": "2021-03-13T18:05:13.294622Z",
     "shell.execute_reply": "2021-03-13T18:05:13.294016Z"
    },
    "papermill": {
     "duration": 0.065282,
     "end_time": "2021-03-13T18:05:13.294780",
     "exception": false,
     "start_time": "2021-03-13T18:05:13.229498",
     "status": "completed"
    },
    "tags": []
   },
   "outputs": [
    {
     "data": {
      "text/plain": [
       "Reservation-id            0\n",
       "Gender                    0\n",
       "Age                       0\n",
       "Ethnicity                 0\n",
       "Educational_Level         0\n",
       "Income                    0\n",
       "Country_region            0\n",
       "Hotel_Type                0\n",
       "Expected_checkin          0\n",
       "Expected_checkout         0\n",
       "Booking_date              0\n",
       "Adults                    0\n",
       "Children                  0\n",
       "Babies                    0\n",
       "Meal_Type                 0\n",
       "Visted_Previously         0\n",
       "Previous_Cancellations    0\n",
       "Deposit_type              0\n",
       "Booking_channel           0\n",
       "Required_Car_Parking      0\n",
       "Use_Promotion             0\n",
       "Discount_Rate             0\n",
       "Room_Rate                 0\n",
       "dtype: int64"
      ]
     },
     "execution_count": 17,
     "metadata": {},
     "output_type": "execute_result"
    }
   ],
   "source": [
    "test.isnull().sum()"
   ]
  },
  {
   "cell_type": "code",
   "execution_count": 18,
   "metadata": {
    "execution": {
     "iopub.execute_input": "2021-03-13T18:05:13.400234Z",
     "iopub.status.busy": "2021-03-13T18:05:13.399133Z",
     "iopub.status.idle": "2021-03-13T18:05:13.907128Z",
     "shell.execute_reply": "2021-03-13T18:05:13.906469Z"
    },
    "papermill": {
     "duration": 0.566745,
     "end_time": "2021-03-13T18:05:13.907269",
     "exception": false,
     "start_time": "2021-03-13T18:05:13.340524",
     "status": "completed"
    },
    "tags": []
   },
   "outputs": [
    {
     "data": {
      "image/png": "[encoded data removed]",
      "text/plain": [
       "<Figure size 1800x720 with 2 Axes>"
      ]
     },
     "metadata": {
      "needs_background": "light"
     },
     "output_type": "display_data"
    }
   ],
   "source": [
    "#visualizing missing data\n",
    "import missingno as msno\n",
    "\n",
    "msno.matrix(test)\n",
    "plt.show()"
   ]
  },
  {
   "cell_type": "markdown",
   "metadata": {
    "papermill": {
     "duration": 0.047372,
     "end_time": "2021-03-13T18:05:14.002590",
     "exception": false,
     "start_time": "2021-03-13T18:05:13.955218",
     "status": "completed"
    },
    "tags": []
   },
   "source": [
    "Data preprocessing"
   ]
  },
  {
   "cell_type": "code",
   "execution_count": 19,
   "metadata": {
    "execution": {
     "iopub.execute_input": "2021-03-13T18:05:14.110706Z",
     "iopub.status.busy": "2021-03-13T18:05:14.110022Z",
     "iopub.status.idle": "2021-03-13T18:05:14.134219Z",
     "shell.execute_reply": "2021-03-13T18:05:14.133675Z"
    },
    "papermill": {
     "duration": 0.083983,
     "end_time": "2021-03-13T18:05:14.134360",
     "exception": false,
     "start_time": "2021-03-13T18:05:14.050377",
     "status": "completed"
    },
    "tags": []
   },
   "outputs": [
    {
     "data": {
      "text/plain": [
       "Check-In    77.239172\n",
       "Canceled    15.033274\n",
       "No-Show      7.727554\n",
       "Name: Reservation_Status, dtype: float64"
      ]
     },
     "execution_count": 19,
     "metadata": {},
     "output_type": "execute_result"
    }
   ],
   "source": [
    "train['Reservation_Status'].value_counts(normalize=True)*100"
   ]
  },
  {
   "cell_type": "code",
   "execution_count": 20,
   "metadata": {
    "execution": {
     "iopub.execute_input": "2021-03-13T18:05:14.234740Z",
     "iopub.status.busy": "2021-03-13T18:05:14.234075Z",
     "iopub.status.idle": "2021-03-13T18:05:14.967726Z",
     "shell.execute_reply": "2021-03-13T18:05:14.968311Z"
    },
    "papermill": {
     "duration": 0.785745,
     "end_time": "2021-03-13T18:05:14.968563",
     "exception": false,
     "start_time": "2021-03-13T18:05:14.182818",
     "status": "completed"
    },
    "tags": []
   },
   "outputs": [],
   "source": [
    "#change date to string and then to ordinal\n",
    "\n",
    "#training data\n",
    "\n",
    "train['Booking_date']= pd.to_datetime(train['Booking_date']).apply(lambda x: x.toordinal())\n",
    "train['Expected_checkin']= pd.to_datetime(train['Expected_checkin']).apply(lambda x: x.toordinal())\n",
    "train['Expected_checkout']= pd.to_datetime(train['Expected_checkout']).apply(lambda x: x.toordinal())\n"
   ]
  },
  {
   "cell_type": "code",
   "execution_count": 21,
   "metadata": {
    "execution": {
     "iopub.execute_input": "2021-03-13T18:05:15.069038Z",
     "iopub.status.busy": "2021-03-13T18:05:15.068377Z",
     "iopub.status.idle": "2021-03-13T18:05:15.161991Z",
     "shell.execute_reply": "2021-03-13T18:05:15.162497Z"
    },
    "papermill": {
     "duration": 0.144935,
     "end_time": "2021-03-13T18:05:15.162710",
     "exception": false,
     "start_time": "2021-03-13T18:05:15.017775",
     "status": "completed"
    },
    "tags": []
   },
   "outputs": [],
   "source": [
    "#validate\n",
    "\n",
    "validation['Booking_date']= pd.to_datetime(validation['Booking_date']).apply(lambda x: x.toordinal())\n",
    "validation['Expected_checkin']= pd.to_datetime(validation['Expected_checkin']).apply(lambda x: x.toordinal())\n",
    "validation['Expected_checkout']= pd.to_datetime(validation['Expected_checkout']).apply(lambda x: x.toordinal())"
   ]
  },
  {
   "cell_type": "code",
   "execution_count": 22,
   "metadata": {
    "execution": {
     "iopub.execute_input": "2021-03-13T18:05:15.263749Z",
     "iopub.status.busy": "2021-03-13T18:05:15.263100Z",
     "iopub.status.idle": "2021-03-13T18:05:15.391940Z",
     "shell.execute_reply": "2021-03-13T18:05:15.392490Z"
    },
    "papermill": {
     "duration": 0.181176,
     "end_time": "2021-03-13T18:05:15.392667",
     "exception": false,
     "start_time": "2021-03-13T18:05:15.211491",
     "status": "completed"
    },
    "tags": []
   },
   "outputs": [],
   "source": [
    "#testing data\n",
    "\n",
    "test['Booking_date']= pd.to_datetime(test['Booking_date']).apply(lambda x: x.toordinal())\n",
    "test['Expected_checkin']= pd.to_datetime(test['Expected_checkin']).apply(lambda x: x.toordinal())\n",
    "test['Expected_checkout']= pd.to_datetime(test['Expected_checkout']).apply(lambda x: x.toordinal())"
   ]
  },
  {
   "cell_type": "code",
   "execution_count": 23,
   "metadata": {
    "execution": {
     "iopub.execute_input": "2021-03-13T18:05:15.493011Z",
     "iopub.status.busy": "2021-03-13T18:05:15.492218Z",
     "iopub.status.idle": "2021-03-13T18:05:15.677353Z",
     "shell.execute_reply": "2021-03-13T18:05:15.677872Z"
    },
    "papermill": {
     "duration": 0.236963,
     "end_time": "2021-03-13T18:05:15.678075",
     "exception": false,
     "start_time": "2021-03-13T18:05:15.441112",
     "status": "completed"
    },
    "tags": []
   },
   "outputs": [],
   "source": [
    "#give values for categorical data\n",
    "#validate and  train datasets\n",
    "\n",
    "\n",
    "\n",
    "for x in [train,validation]:\n",
    "    x['Gender'] = labelenc.fit_transform(x.Gender)\n",
    "    x['Ethnicity'] = labelenc.fit_transform(x.Ethnicity)\n",
    "    x['Educational_Level'] = labelenc.fit_transform(x.Educational_Level)\n",
    "    x['Country_region'] = labelenc.fit_transform(x.Country_region)\n",
    "    x['Income'] = labelenc.fit_transform(x.Income)\n",
    "    x['Meal_Type'] = labelenc.fit_transform(x.Meal_Type)\n",
    "    x['Visted_Previously'] = labelenc.fit_transform(x.Visted_Previously)\n",
    "    x['Previous_Cancellations'] = labelenc.fit_transform(x.Previous_Cancellations)\n",
    "    x['Deposit_type'] = labelenc.fit_transform(x.Deposit_type)\n",
    "    x['Booking_channel'] = labelenc.fit_transform(x.Booking_channel)\n",
    "    x['Required_Car_Parking'] = labelenc.fit_transform(x.Required_Car_Parking)\n",
    "    x['Reservation_Status'] = labelenc.fit_transform(x.Reservation_Status)\n",
    "    x['Use_Promotion'] = labelenc.fit_transform(x.Use_Promotion)\n",
    "    x['Hotel_Type'] = labelenc.fit_transform(x.Hotel_Type)\n",
    "    "
   ]
  },
  {
   "cell_type": "code",
   "execution_count": 24,
   "metadata": {
    "execution": {
     "iopub.execute_input": "2021-03-13T18:05:15.780350Z",
     "iopub.status.busy": "2021-03-13T18:05:15.779654Z",
     "iopub.status.idle": "2021-03-13T18:05:15.814512Z",
     "shell.execute_reply": "2021-03-13T18:05:15.815020Z"
    },
    "papermill": {
     "duration": 0.087632,
     "end_time": "2021-03-13T18:05:15.815220",
     "exception": false,
     "start_time": "2021-03-13T18:05:15.727588",
     "status": "completed"
    },
    "tags": []
   },
   "outputs": [],
   "source": [
    "#test dataset\n",
    "\n",
    "for x in [test]:\n",
    "    x['Gender'] = labelenc.fit_transform(x.Gender)\n",
    "    x['Ethnicity'] = labelenc.fit_transform(x.Ethnicity)\n",
    "    x['Educational_Level'] = labelenc.fit_transform(x.Educational_Level)\n",
    "    x['Country_region'] = labelenc.fit_transform(x.Country_region)\n",
    "    x['Income'] = labelenc.fit_transform(x.Income)\n",
    "    x['Meal_Type'] = labelenc.fit_transform(x.Meal_Type)\n",
    "    x['Visted_Previously'] = labelenc.fit_transform(x.Visted_Previously)\n",
    "    x['Previous_Cancellations'] = labelenc.fit_transform(x.Previous_Cancellations)\n",
    "    x['Deposit_type'] = labelenc.fit_transform(x.Deposit_type)\n",
    "    x['Booking_channel'] = labelenc.fit_transform(x.Booking_channel)\n",
    "    x['Required_Car_Parking'] = labelenc.fit_transform(x.Required_Car_Parking)\n",
    "    x['Use_Promotion'] = labelenc.fit_transform(x.Use_Promotion)\n",
    "    x['Hotel_Type'] = labelenc.fit_transform(x.Hotel_Type)\n",
    "    "
   ]
  },
  {
   "cell_type": "code",
   "execution_count": 25,
   "metadata": {
    "execution": {
     "iopub.execute_input": "2021-03-13T18:05:15.916815Z",
     "iopub.status.busy": "2021-03-13T18:05:15.916187Z",
     "iopub.status.idle": "2021-03-13T18:05:15.924301Z",
     "shell.execute_reply": "2021-03-13T18:05:15.924801Z"
    },
    "papermill": {
     "duration": 0.060499,
     "end_time": "2021-03-13T18:05:15.924967",
     "exception": false,
     "start_time": "2021-03-13T18:05:15.864468",
     "status": "completed"
    },
    "tags": []
   },
   "outputs": [],
   "source": [
    "X=  train.drop(['Reservation_Status'], axis=1)\n",
    "Y = train['Reservation_Status']"
   ]
  },
  {
   "cell_type": "code",
   "execution_count": 26,
   "metadata": {
    "execution": {
     "iopub.execute_input": "2021-03-13T18:05:16.027355Z",
     "iopub.status.busy": "2021-03-13T18:05:16.026761Z",
     "iopub.status.idle": "2021-03-13T18:05:16.036598Z",
     "shell.execute_reply": "2021-03-13T18:05:16.037091Z"
    },
    "papermill": {
     "duration": 0.062892,
     "end_time": "2021-03-13T18:05:16.037249",
     "exception": false,
     "start_time": "2021-03-13T18:05:15.974357",
     "status": "completed"
    },
    "tags": []
   },
   "outputs": [],
   "source": [
    "# Train Test Split\n",
    "from sklearn.model_selection import train_test_split\n",
    "\n",
    "X_train, X_val, Y_train, Y_val = train_test_split(X, Y, test_size=0.30)"
   ]
  },
  {
   "cell_type": "code",
   "execution_count": 27,
   "metadata": {
    "execution": {
     "iopub.execute_input": "2021-03-13T18:05:16.139207Z",
     "iopub.status.busy": "2021-03-13T18:05:16.138545Z",
     "iopub.status.idle": "2021-03-13T18:05:17.537278Z",
     "shell.execute_reply": "2021-03-13T18:05:17.536593Z"
    },
    "papermill": {
     "duration": 1.451431,
     "end_time": "2021-03-13T18:05:17.537419",
     "exception": false,
     "start_time": "2021-03-13T18:05:16.085988",
     "status": "completed"
    },
    "tags": []
   },
   "outputs": [
    {
     "data": {
      "text/plain": [
       "RandomForestClassifier(n_jobs=-1)"
      ]
     },
     "execution_count": 27,
     "metadata": {},
     "output_type": "execute_result"
    }
   ],
   "source": [
    "# Implement Random Forest classifier\n",
    "from sklearn.ensemble import RandomForestClassifier\n",
    "RFclassifier=RandomForestClassifier(n_jobs=-1)\n",
    "RFclassifier.fit(X_train,Y_train)"
   ]
  },
  {
   "cell_type": "code",
   "execution_count": 28,
   "metadata": {
    "execution": {
     "iopub.execute_input": "2021-03-13T18:05:17.644318Z",
     "iopub.status.busy": "2021-03-13T18:05:17.643293Z",
     "iopub.status.idle": "2021-03-13T18:05:17.749871Z",
     "shell.execute_reply": "2021-03-13T18:05:17.749147Z"
    },
    "papermill": {
     "duration": 0.16293,
     "end_time": "2021-03-13T18:05:17.750028",
     "exception": false,
     "start_time": "2021-03-13T18:05:17.587098",
     "status": "completed"
    },
    "tags": []
   },
   "outputs": [],
   "source": [
    "y_pred = RFclassifier.predict(X_val)"
   ]
  },
  {
   "cell_type": "code",
   "execution_count": 29,
   "metadata": {
    "execution": {
     "iopub.execute_input": "2021-03-13T18:05:17.857665Z",
     "iopub.status.busy": "2021-03-13T18:05:17.856989Z",
     "iopub.status.idle": "2021-03-13T18:05:18.080852Z",
     "shell.execute_reply": "2021-03-13T18:05:18.080291Z"
    },
    "papermill": {
     "duration": 0.280057,
     "end_time": "2021-03-13T18:05:18.081002",
     "exception": false,
     "start_time": "2021-03-13T18:05:17.800945",
     "status": "completed"
    },
    "tags": []
   },
   "outputs": [
    {
     "name": "stdout",
     "output_type": "stream",
     "text": [
      "Accuracy is:  0.7727272727272727\n"
     ]
    },
    {
     "data": {
      "text/plain": [
       "<AxesSubplot:>"
      ]
     },
     "execution_count": 29,
     "metadata": {},
     "output_type": "execute_result"
    },
    {
     "data": {
      "image/png": "[encoded data removed]",
      "text/plain": [
       "<Figure size 432x288 with 2 Axes>"
      ]
     },
     "metadata": {
      "needs_background": "light"
     },
     "output_type": "display_data"
    }
   ],
   "source": [
    "from sklearn.metrics import accuracy_score\n",
    "from sklearn.metrics import classification_report, confusion_matrix\n",
    "\n",
    "ac = accuracy_score(Y_val,y_pred)\n",
    "print('Accuracy is: ',ac)\n",
    "cm = confusion_matrix(Y_val,y_pred)\n",
    "sns.heatmap(cm,annot=True,fmt=\"d\")"
   ]
  },
  {
   "cell_type": "code",
   "execution_count": 30,
   "metadata": {
    "execution": {
     "iopub.execute_input": "2021-03-13T18:05:18.190495Z",
     "iopub.status.busy": "2021-03-13T18:05:18.189539Z",
     "iopub.status.idle": "2021-03-13T18:05:18.207881Z",
     "shell.execute_reply": "2021-03-13T18:05:18.207160Z"
    },
    "papermill": {
     "duration": 0.075389,
     "end_time": "2021-03-13T18:05:18.208041",
     "exception": false,
     "start_time": "2021-03-13T18:05:18.132652",
     "status": "completed"
    },
    "tags": []
   },
   "outputs": [
    {
     "name": "stdout",
     "output_type": "stream",
     "text": [
      "[[   4 1237    0]\n",
      " [   4 6371    0]\n",
      " [   1  633    0]]\n"
     ]
    }
   ],
   "source": [
    "print(confusion_matrix(Y_val, y_pred))"
   ]
  },
  {
   "cell_type": "code",
   "execution_count": 31,
   "metadata": {
    "execution": {
     "iopub.execute_input": "2021-03-13T18:05:18.318568Z",
     "iopub.status.busy": "2021-03-13T18:05:18.317479Z",
     "iopub.status.idle": "2021-03-13T18:05:18.338095Z",
     "shell.execute_reply": "2021-03-13T18:05:18.338871Z"
    },
    "papermill": {
     "duration": 0.079055,
     "end_time": "2021-03-13T18:05:18.339107",
     "exception": false,
     "start_time": "2021-03-13T18:05:18.260052",
     "status": "completed"
    },
    "tags": []
   },
   "outputs": [
    {
     "name": "stdout",
     "output_type": "stream",
     "text": [
      "              precision    recall  f1-score   support\n",
      "\n",
      "           0       0.44      0.00      0.01      1241\n",
      "           1       0.77      1.00      0.87      6375\n",
      "           2       0.00      0.00      0.00       634\n",
      "\n",
      "    accuracy                           0.77      8250\n",
      "   macro avg       0.41      0.33      0.29      8250\n",
      "weighted avg       0.66      0.77      0.67      8250\n",
      "\n"
     ]
    },
    {
     "name": "stderr",
     "output_type": "stream",
     "text": [
      "/opt/conda/lib/python3.7/site-packages/sklearn/metrics/_classification.py:1245: UndefinedMetricWarning: Precision and F-score are ill-defined and being set to 0.0 in labels with no predicted samples. Use `zero_division` parameter to control this behavior.\n",
      "  _warn_prf(average, modifier, msg_start, len(result))\n",
      "/opt/conda/lib/python3.7/site-packages/sklearn/metrics/_classification.py:1245: UndefinedMetricWarning: Precision and F-score are ill-defined and being set to 0.0 in labels with no predicted samples. Use `zero_division` parameter to control this behavior.\n",
      "  _warn_prf(average, modifier, msg_start, len(result))\n",
      "/opt/conda/lib/python3.7/site-packages/sklearn/metrics/_classification.py:1245: UndefinedMetricWarning: Precision and F-score are ill-defined and being set to 0.0 in labels with no predicted samples. Use `zero_division` parameter to control this behavior.\n",
      "  _warn_prf(average, modifier, msg_start, len(result))\n"
     ]
    }
   ],
   "source": [
    "print(classification_report(Y_val, y_pred))"
   ]
  },
  {
   "cell_type": "code",
   "execution_count": 32,
   "metadata": {
    "execution": {
     "iopub.execute_input": "2021-03-13T18:05:18.451092Z",
     "iopub.status.busy": "2021-03-13T18:05:18.450465Z",
     "iopub.status.idle": "2021-03-13T18:05:18.454041Z",
     "shell.execute_reply": "2021-03-13T18:05:18.453410Z"
    },
    "papermill": {
     "duration": 0.060914,
     "end_time": "2021-03-13T18:05:18.454192",
     "exception": false,
     "start_time": "2021-03-13T18:05:18.393278",
     "status": "completed"
    },
    "tags": []
   },
   "outputs": [],
   "source": [
    "X_test = test"
   ]
  },
  {
   "cell_type": "code",
   "execution_count": 33,
   "metadata": {
    "execution": {
     "iopub.execute_input": "2021-03-13T18:05:18.568056Z",
     "iopub.status.busy": "2021-03-13T18:05:18.567341Z",
     "iopub.status.idle": "2021-03-13T18:05:18.674352Z",
     "shell.execute_reply": "2021-03-13T18:05:18.673810Z"
    },
    "papermill": {
     "duration": 0.166871,
     "end_time": "2021-03-13T18:05:18.674499",
     "exception": false,
     "start_time": "2021-03-13T18:05:18.507628",
     "status": "completed"
    },
    "tags": []
   },
   "outputs": [],
   "source": [
    "y_pred_test=RFclassifier.predict(X_test)"
   ]
  },
  {
   "cell_type": "code",
   "execution_count": 34,
   "metadata": {
    "execution": {
     "iopub.execute_input": "2021-03-13T18:05:18.786498Z",
     "iopub.status.busy": "2021-03-13T18:05:18.785546Z",
     "iopub.status.idle": "2021-03-13T18:05:18.789205Z",
     "shell.execute_reply": "2021-03-13T18:05:18.789677Z"
    },
    "papermill": {
     "duration": 0.06222,
     "end_time": "2021-03-13T18:05:18.789861",
     "exception": false,
     "start_time": "2021-03-13T18:05:18.727641",
     "status": "completed"
    },
    "tags": []
   },
   "outputs": [
    {
     "data": {
      "text/plain": [
       "(4318,)"
      ]
     },
     "execution_count": 34,
     "metadata": {},
     "output_type": "execute_result"
    }
   ],
   "source": [
    "y_pred_test.shape"
   ]
  },
  {
   "cell_type": "code",
   "execution_count": 35,
   "metadata": {
    "execution": {
     "iopub.execute_input": "2021-03-13T18:05:18.903078Z",
     "iopub.status.busy": "2021-03-13T18:05:18.902093Z",
     "iopub.status.idle": "2021-03-13T18:05:18.907672Z",
     "shell.execute_reply": "2021-03-13T18:05:18.908201Z"
    },
    "papermill": {
     "duration": 0.063766,
     "end_time": "2021-03-13T18:05:18.908377",
     "exception": false,
     "start_time": "2021-03-13T18:05:18.844611",
     "status": "completed"
    },
    "tags": []
   },
   "outputs": [],
   "source": [
    "train.rename(columns={'Reservation-id': 'Reservation_id'}, inplace=True)\n",
    "test.rename(columns={'Reservation-id': 'Reservation_id'}, inplace=True)"
   ]
  },
  {
   "cell_type": "code",
   "execution_count": 36,
   "metadata": {
    "execution": {
     "iopub.execute_input": "2021-03-13T18:05:19.020383Z",
     "iopub.status.busy": "2021-03-13T18:05:19.019437Z",
     "iopub.status.idle": "2021-03-13T18:05:19.037765Z",
     "shell.execute_reply": "2021-03-13T18:05:19.037053Z"
    },
    "papermill": {
     "duration": 0.075319,
     "end_time": "2021-03-13T18:05:19.037909",
     "exception": false,
     "start_time": "2021-03-13T18:05:18.962590",
     "status": "completed"
    },
    "tags": []
   },
   "outputs": [],
   "source": [
    "output = pd.DataFrame({'Reservation-id':test.Reservation_id.astype(np.int32), 'Reservation_Status':y_pred_test})\n",
    "output.to_csv('my_submissionnew.csv', index=False)"
   ]
  },
  {
   "cell_type": "markdown",
   "metadata": {
    "papermill": {
     "duration": 0.054331,
     "end_time": "2021-03-13T18:05:19.146007",
     "exception": false,
     "start_time": "2021-03-13T18:05:19.091676",
     "status": "completed"
    },
    "tags": []
   },
   "source": [
    "Hyperparameter Tuning"
   ]
  },
  {
   "cell_type": "code",
   "execution_count": 37,
   "metadata": {
    "execution": {
     "iopub.execute_input": "2021-03-13T18:05:19.257921Z",
     "iopub.status.busy": "2021-03-13T18:05:19.256959Z",
     "iopub.status.idle": "2021-03-13T18:05:19.263007Z",
     "shell.execute_reply": "2021-03-13T18:05:19.263437Z"
    },
    "papermill": {
     "duration": 0.063217,
     "end_time": "2021-03-13T18:05:19.263602",
     "exception": false,
     "start_time": "2021-03-13T18:05:19.200385",
     "status": "completed"
    },
    "tags": []
   },
   "outputs": [],
   "source": [
    "X=  validation.drop(['Reservation_Status'], axis=1)\n",
    "y = validation['Reservation_Status']"
   ]
  },
  {
   "cell_type": "code",
   "execution_count": 38,
   "metadata": {
    "execution": {
     "iopub.execute_input": "2021-03-13T18:05:19.374522Z",
     "iopub.status.busy": "2021-03-13T18:05:19.373575Z",
     "iopub.status.idle": "2021-03-13T18:05:19.377325Z",
     "shell.execute_reply": "2021-03-13T18:05:19.377778Z"
    },
    "papermill": {
     "duration": 0.060838,
     "end_time": "2021-03-13T18:05:19.377946",
     "exception": false,
     "start_time": "2021-03-13T18:05:19.317108",
     "status": "completed"
    },
    "tags": []
   },
   "outputs": [],
   "source": [
    "GridSearch = False"
   ]
  },
  {
   "cell_type": "code",
   "execution_count": 39,
   "metadata": {
    "execution": {
     "iopub.execute_input": "2021-03-13T18:05:19.488827Z",
     "iopub.status.busy": "2021-03-13T18:05:19.487866Z",
     "iopub.status.idle": "2021-03-13T18:05:19.494030Z",
     "shell.execute_reply": "2021-03-13T18:05:19.494513Z"
    },
    "papermill": {
     "duration": 0.06315,
     "end_time": "2021-03-13T18:05:19.494740",
     "exception": false,
     "start_time": "2021-03-13T18:05:19.431590",
     "status": "completed"
    },
    "tags": []
   },
   "outputs": [],
   "source": [
    "\n",
    "X_train, X_val, y_train, y_val = train_test_split(X, y, random_state=42)"
   ]
  },
  {
   "cell_type": "code",
   "execution_count": 40,
   "metadata": {
    "execution": {
     "iopub.execute_input": "2021-03-13T18:05:19.605841Z",
     "iopub.status.busy": "2021-03-13T18:05:19.604914Z",
     "iopub.status.idle": "2021-03-13T18:05:19.611078Z",
     "shell.execute_reply": "2021-03-13T18:05:19.611544Z"
    },
    "papermill": {
     "duration": 0.063059,
     "end_time": "2021-03-13T18:05:19.611732",
     "exception": false,
     "start_time": "2021-03-13T18:05:19.548673",
     "status": "completed"
    },
    "tags": []
   },
   "outputs": [],
   "source": [
    "from sklearn.neighbors import KNeighborsClassifier\n",
    "from sklearn.model_selection import GridSearchCV\n",
    "\n",
    "if GridSearch == True:\n",
    "    param_grid = {'n_neighbors': np.arange(1,50), 'p':[1,2]}\n",
    "    knn = KNeighborsClassifier()\n",
    "    knn_cv = GridSearchCV(knn, param_grid, cv=10)\n",
    "    knn_cv.fit(X_train, y_train)\n",
    "    print(knn_cv.best_params_)\n",
    "    knn_cv.predict(X_val)\n",
    "    print(knn_cv.score(X_val, y_val))"
   ]
  },
  {
   "cell_type": "code",
   "execution_count": 41,
   "metadata": {
    "execution": {
     "iopub.execute_input": "2021-03-13T18:05:19.723966Z",
     "iopub.status.busy": "2021-03-13T18:05:19.723037Z",
     "iopub.status.idle": "2021-03-13T18:05:19.729443Z",
     "shell.execute_reply": "2021-03-13T18:05:19.729934Z"
    },
    "papermill": {
     "duration": 0.063855,
     "end_time": "2021-03-13T18:05:19.730111",
     "exception": false,
     "start_time": "2021-03-13T18:05:19.666256",
     "status": "completed"
    },
    "tags": []
   },
   "outputs": [],
   "source": [
    "from sklearn.linear_model import LogisticRegression\n",
    "\n",
    "if GridSearch == True:\n",
    "    param_grid = {'C':[0.01, 0.1,0.2,0.25,0.3,0.4, 1, 2],'max_iter': [150,200,250, 300, 1000,1500], 'random_state':[1,123, 21,42,10] } \n",
    "    lr = LogisticRegression()\n",
    "    lr_cv = GridSearchCV(lr, param_grid, cv=10)\n",
    "    lr_cv.fit(X_train, y_train)\n",
    "    print(lr_cv.best_params_)\n",
    "    lr_cv.predict(X_val)\n",
    "    print(lr_cv.score(X_val, y_val))\n"
   ]
  },
  {
   "cell_type": "code",
   "execution_count": 42,
   "metadata": {
    "execution": {
     "iopub.execute_input": "2021-03-13T18:05:19.842538Z",
     "iopub.status.busy": "2021-03-13T18:05:19.841563Z",
     "iopub.status.idle": "2021-03-13T18:05:19.848145Z",
     "shell.execute_reply": "2021-03-13T18:05:19.848604Z"
    },
    "papermill": {
     "duration": 0.064428,
     "end_time": "2021-03-13T18:05:19.848802",
     "exception": false,
     "start_time": "2021-03-13T18:05:19.784374",
     "status": "completed"
    },
    "tags": []
   },
   "outputs": [],
   "source": [
    "from sklearn.ensemble import RandomForestClassifier\n",
    "\n",
    "if GridSearch == True:\n",
    "    param_grid = {'n_estimators':[25,50,60],'max_features': [3,4,5], 'max_depth':[5,6,7], 'min_samples_leaf':[8,9,10,11],'random_state':[1,42] } \n",
    "    rf = RandomForestClassifier(n_jobs=-1)\n",
    "    rf_cv =  GridSearchCV(rf, param_grid)\n",
    "    rf_cv.fit(X_train, y_train)\n",
    "    print(rf_cv.best_params_)\n",
    "    rf_cv.predict(X_val)\n",
    "    print(rf_cv.score(X_val, y_val))"
   ]
  },
  {
   "cell_type": "code",
   "execution_count": 43,
   "metadata": {
    "execution": {
     "iopub.execute_input": "2021-03-13T18:05:19.961966Z",
     "iopub.status.busy": "2021-03-13T18:05:19.961015Z",
     "iopub.status.idle": "2021-03-13T18:05:19.968538Z",
     "shell.execute_reply": "2021-03-13T18:05:19.967912Z"
    },
    "papermill": {
     "duration": 0.065014,
     "end_time": "2021-03-13T18:05:19.968729",
     "exception": false,
     "start_time": "2021-03-13T18:05:19.903715",
     "status": "completed"
    },
    "tags": []
   },
   "outputs": [],
   "source": [
    "from sklearn.linear_model import SGDClassifier\n",
    "\n",
    "if GridSearch == True:\n",
    "    param_grid = {'alpha':[0.01, 0.1,0.2, 1, 2],'max_iter': [70,75,80,90,120,150,200], 'random_state':[1,123, 21,42,10] } \n",
    "    sgd = SGDClassifier()\n",
    "    sgd_cv =  GridSearchCV(sgd, param_grid, cv=5)\n",
    "    sgd_cv.fit(X_train, y_train)\n",
    "    print(sgd_cv.best_params_)\n",
    "    sgd_cv.predict(X_val)\n",
    "    print(sgd_cv.score(X_val, y_val))\n",
    "    "
   ]
  },
  {
   "cell_type": "code",
   "execution_count": 44,
   "metadata": {
    "execution": {
     "iopub.execute_input": "2021-03-13T18:05:20.088000Z",
     "iopub.status.busy": "2021-03-13T18:05:20.087052Z",
     "iopub.status.idle": "2021-03-13T18:05:20.089848Z",
     "shell.execute_reply": "2021-03-13T18:05:20.089233Z"
    },
    "papermill": {
     "duration": 0.066234,
     "end_time": "2021-03-13T18:05:20.089999",
     "exception": false,
     "start_time": "2021-03-13T18:05:20.023765",
     "status": "completed"
    },
    "tags": []
   },
   "outputs": [],
   "source": [
    "from sklearn.ensemble import AdaBoostClassifier\n",
    "from sklearn.tree import DecisionTreeClassifier\n",
    "\n",
    "if GridSearch == True:\n",
    "    param_grid = {'base_estimator': [LogisticRegression(random_state=1), LogisticRegression(random_state=42), DecisionTreeClassifier()],'learning_rate':[0.1, 0.3, 0.6, 0.9, 1.1,1.3], 'n_estimators':[55,60,65,70],\n",
    "                 'random_state':[1,123, 21,42,10]}\n",
    "    adb = AdaBoostClassifier()\n",
    "    adb_cv = GridSearchCV(adb, param_grid, cv=6)\n",
    "    adb_cv.fit(X_train, y_train)\n",
    "    print(adb_cv.best_params_)\n",
    "    adb_cv.predict(X_val)\n",
    "    print(adb_cv.score(X_val, y_val))"
   ]
  },
  {
   "cell_type": "code",
   "execution_count": 45,
   "metadata": {
    "execution": {
     "iopub.execute_input": "2021-03-13T18:05:20.216660Z",
     "iopub.status.busy": "2021-03-13T18:05:20.215914Z",
     "iopub.status.idle": "2021-03-13T18:05:20.219397Z",
     "shell.execute_reply": "2021-03-13T18:05:20.218880Z"
    },
    "papermill": {
     "duration": 0.0697,
     "end_time": "2021-03-13T18:05:20.219539",
     "exception": false,
     "start_time": "2021-03-13T18:05:20.149839",
     "status": "completed"
    },
    "tags": []
   },
   "outputs": [],
   "source": [
    "from sklearn.ensemble import BaggingClassifier\n",
    "\n",
    "if GridSearch == True:\n",
    "    param_grid = {'base_estimator': [LogisticRegression(random_state=1), DecisionTreeClassifier()],'max_features':[3,4,5,6],'max_samples':[30,40,50,60],\n",
    "                  'n_estimators':[20,30,40,50],'random_state':[1,123, 21,42,10] } \n",
    "\n",
    "    bc = BaggingClassifier(n_jobs=-1)\n",
    "    bc_cv = GridSearchCV(bc, param_grid, cv=5)\n",
    "    bc_cv.fit(X_train, y_train)\n",
    "    print(bc_cv.best_params_)\n",
    "    bc_cv.predict(X_val)\n",
    "    print(bc_cv.score(X_val, y_val))"
   ]
  },
  {
   "cell_type": "code",
   "execution_count": 46,
   "metadata": {
    "execution": {
     "iopub.execute_input": "2021-03-13T18:05:20.356201Z",
     "iopub.status.busy": "2021-03-13T18:05:20.355189Z",
     "iopub.status.idle": "2021-03-13T18:05:20.765139Z",
     "shell.execute_reply": "2021-03-13T18:05:20.765782Z"
    },
    "papermill": {
     "duration": 0.47118,
     "end_time": "2021-03-13T18:05:20.765977",
     "exception": false,
     "start_time": "2021-03-13T18:05:20.294797",
     "status": "completed"
    },
    "tags": []
   },
   "outputs": [],
   "source": [
    "import xgboost as xgb\n",
    "\n",
    "if GridSearch == True:\n",
    "    param_grid = {'n_estimators':[300,500,1000], 'objective':['binary:logistic'],'learning_rate':[0.1,1,1.5],'max_depth':[5,10,15] }\n",
    "    #xgb_clf = xgb.XGBClassifier(base_score=0.5, objective='binary:logistic', n_estimators=300,seed=1, learning_rate=0.1, max_depth=10)\n",
    "    xgb = xgb.XGBClassifier()\n",
    "    xgb_cv =  GridSearchCV(xgb, param_grid, cv=5) \n",
    "    xgb_cv.fit(X_train, y_train)\n",
    "    print(xgb_cv.best_params_)\n",
    "    xgb_cv.predict(X_val)\n",
    "    print(xgb_cv.score(X_val,y_val))"
   ]
  },
  {
   "cell_type": "code",
   "execution_count": 47,
   "metadata": {
    "execution": {
     "iopub.execute_input": "2021-03-13T18:05:20.885783Z",
     "iopub.status.busy": "2021-03-13T18:05:20.884744Z",
     "iopub.status.idle": "2021-03-13T18:05:21.627277Z",
     "shell.execute_reply": "2021-03-13T18:05:21.626758Z"
    },
    "papermill": {
     "duration": 0.803325,
     "end_time": "2021-03-13T18:05:21.627418",
     "exception": false,
     "start_time": "2021-03-13T18:05:20.824093",
     "status": "completed"
    },
    "tags": []
   },
   "outputs": [
    {
     "name": "stdout",
     "output_type": "stream",
     "text": [
      "Logistic Regression : 0.5843\n",
      "Random Forest : 0.5843\n",
      "AdaBoostClassifier : 0.5843\n",
      "BaggingClassifier : 0.5727\n"
     ]
    }
   ],
   "source": [
    "from sklearn.metrics import accuracy_score\n",
    "from sklearn.model_selection import train_test_split\n",
    "from sklearn.linear_model import LogisticRegression\n",
    "from sklearn.tree import DecisionTreeClassifier\n",
    "from sklearn.neighbors import KNeighborsClassifier\n",
    "from sklearn.ensemble import VotingClassifier, RandomForestClassifier, AdaBoostClassifier, BaggingClassifier\n",
    "from sklearn.linear_model import SGDClassifier\n",
    "import xgboost as xgb\n",
    "from sklearn.neighbors import KNeighborsClassifier\n",
    "\n",
    "\n",
    "knn = KNeighborsClassifier(n_neighbors=28, p=1)\n",
    "lr = LogisticRegression(C=0.1,random_state=1, max_iter=150)\n",
    "rf = RandomForestClassifier(n_estimators=50,max_features=4, max_depth=5, min_samples_leaf=11, random_state=1, n_jobs=-1)\n",
    "sgd = SGDClassifier(alpha=0.1, max_iter=50, n_jobs=-1, random_state=0)\n",
    "adb = AdaBoostClassifier(base_estimator=LogisticRegression(random_state=1),\n",
    "                   learning_rate=0.9, n_estimators=21, random_state=1)\n",
    "bc = BaggingClassifier(base_estimator=DecisionTreeClassifier(), max_features=5,\n",
    "                  max_samples=40, n_estimators=20, random_state=1)\n",
    "xgb_clf = xgb.XGBClassifier(base_score=0.5, objective='binary:logistic', n_estimators=1000,seed=1, learning_rate=1, max_depth=5)\n",
    "\n",
    "\n",
    "classifiers = [('Logistic Regression', lr),\n",
    "              ('Random Forest', rf),\n",
    "              ('AdaBoostClassifier', adb),\n",
    "              ('BaggingClassifier', bc)]  \n",
    "\n",
    "for clf_name , clf in classifiers:\n",
    "    clf.fit(X_train, y_train)\n",
    "    y_pred = clf.predict(X_val)\n",
    "    print('{:s} : {:.4f}'.format(clf_name, accuracy_score(y_val, y_pred)))\n",
    "\n"
   ]
  },
  {
   "cell_type": "code",
   "execution_count": 48,
   "metadata": {
    "execution": {
     "iopub.execute_input": "2021-03-13T18:05:21.748025Z",
     "iopub.status.busy": "2021-03-13T18:05:21.747076Z",
     "iopub.status.idle": "2021-03-13T18:05:24.361139Z",
     "shell.execute_reply": "2021-03-13T18:05:24.361603Z"
    },
    "papermill": {
     "duration": 2.677567,
     "end_time": "2021-03-13T18:05:24.361790",
     "exception": false,
     "start_time": "2021-03-13T18:05:21.684223",
     "status": "completed"
    },
    "tags": []
   },
   "outputs": [
    {
     "name": "stdout",
     "output_type": "stream",
     "text": [
      "VotingClassifier_score: 0.5843\n",
      "VotingClassifier: 0.5843\n"
     ]
    }
   ],
   "source": [
    "vc = VotingClassifier(estimators=classifiers)\n",
    "vc.fit(X, y)\n",
    "\n",
    "y_pred = vc.predict(X_val)\n",
    "print('VotingClassifier_score: {:.4f}'.format(vc.score(X_val, y_val)))\n",
    "\n",
    "print('VotingClassifier: {:.4f}'.format(accuracy_score(y_val, y_pred)))"
   ]
  },
  {
   "cell_type": "code",
   "execution_count": 49,
   "metadata": {
    "execution": {
     "iopub.execute_input": "2021-03-13T18:05:24.483070Z",
     "iopub.status.busy": "2021-03-13T18:05:24.482262Z",
     "iopub.status.idle": "2021-03-13T18:05:24.488535Z",
     "shell.execute_reply": "2021-03-13T18:05:24.487914Z"
    },
    "papermill": {
     "duration": 0.068994,
     "end_time": "2021-03-13T18:05:24.488667",
     "exception": false,
     "start_time": "2021-03-13T18:05:24.419673",
     "status": "completed"
    },
    "tags": []
   },
   "outputs": [
    {
     "name": "stdout",
     "output_type": "stream",
     "text": [
      "[[  0 182   0]\n",
      " [  0 402   0]\n",
      " [  0 104   0]]\n"
     ]
    }
   ],
   "source": [
    "from sklearn.metrics import classification_report, confusion_matrix\n",
    "print(confusion_matrix(y_val, y_pred))"
   ]
  },
  {
   "cell_type": "code",
   "execution_count": 50,
   "metadata": {
    "execution": {
     "iopub.execute_input": "2021-03-13T18:05:24.606488Z",
     "iopub.status.busy": "2021-03-13T18:05:24.605840Z",
     "iopub.status.idle": "2021-03-13T18:05:24.617917Z",
     "shell.execute_reply": "2021-03-13T18:05:24.618654Z"
    },
    "papermill": {
     "duration": 0.073985,
     "end_time": "2021-03-13T18:05:24.618900",
     "exception": false,
     "start_time": "2021-03-13T18:05:24.544915",
     "status": "completed"
    },
    "tags": []
   },
   "outputs": [
    {
     "name": "stdout",
     "output_type": "stream",
     "text": [
      "              precision    recall  f1-score   support\n",
      "\n",
      "           0       0.00      0.00      0.00       182\n",
      "           1       0.58      1.00      0.74       402\n",
      "           2       0.00      0.00      0.00       104\n",
      "\n",
      "    accuracy                           0.58       688\n",
      "   macro avg       0.19      0.33      0.25       688\n",
      "weighted avg       0.34      0.58      0.43       688\n",
      "\n"
     ]
    },
    {
     "name": "stderr",
     "output_type": "stream",
     "text": [
      "/opt/conda/lib/python3.7/site-packages/sklearn/metrics/_classification.py:1245: UndefinedMetricWarning: Precision and F-score are ill-defined and being set to 0.0 in labels with no predicted samples. Use `zero_division` parameter to control this behavior.\n",
      "  _warn_prf(average, modifier, msg_start, len(result))\n",
      "/opt/conda/lib/python3.7/site-packages/sklearn/metrics/_classification.py:1245: UndefinedMetricWarning: Precision and F-score are ill-defined and being set to 0.0 in labels with no predicted samples. Use `zero_division` parameter to control this behavior.\n",
      "  _warn_prf(average, modifier, msg_start, len(result))\n",
      "/opt/conda/lib/python3.7/site-packages/sklearn/metrics/_classification.py:1245: UndefinedMetricWarning: Precision and F-score are ill-defined and being set to 0.0 in labels with no predicted samples. Use `zero_division` parameter to control this behavior.\n",
      "  _warn_prf(average, modifier, msg_start, len(result))\n"
     ]
    }
   ],
   "source": [
    "print(classification_report(y_val, y_pred))"
   ]
  },
  {
   "cell_type": "code",
   "execution_count": 51,
   "metadata": {
    "execution": {
     "iopub.execute_input": "2021-03-13T18:05:24.740233Z",
     "iopub.status.busy": "2021-03-13T18:05:24.739574Z",
     "iopub.status.idle": "2021-03-13T18:05:24.746093Z",
     "shell.execute_reply": "2021-03-13T18:05:24.745460Z"
    },
    "papermill": {
     "duration": 0.067997,
     "end_time": "2021-03-13T18:05:24.746225",
     "exception": false,
     "start_time": "2021-03-13T18:05:24.678228",
     "status": "completed"
    },
    "tags": []
   },
   "outputs": [
    {
     "data": {
      "text/plain": [
       "(688,)"
      ]
     },
     "execution_count": 51,
     "metadata": {},
     "output_type": "execute_result"
    }
   ],
   "source": [
    "y_pred.shape"
   ]
  },
  {
   "cell_type": "code",
   "execution_count": 52,
   "metadata": {
    "execution": {
     "iopub.execute_input": "2021-03-13T18:05:24.871546Z",
     "iopub.status.busy": "2021-03-13T18:05:24.870934Z",
     "iopub.status.idle": "2021-03-13T18:05:25.079984Z",
     "shell.execute_reply": "2021-03-13T18:05:25.079392Z"
    },
    "papermill": {
     "duration": 0.273947,
     "end_time": "2021-03-13T18:05:25.080140",
     "exception": false,
     "start_time": "2021-03-13T18:05:24.806193",
     "status": "completed"
    },
    "tags": []
   },
   "outputs": [],
   "source": [
    "y_pred_test = vc.predict(X_test)\n",
    "\n",
    "output = pd.DataFrame({'Reservation-id':test.Reservation_id.astype(np.int32), 'Reservation_Status':y_pred_test})\n",
    "output.to_csv('my_submission.csv', index=False)"
   ]
  },
  {
   "cell_type": "code",
   "execution_count": 53,
   "metadata": {
    "execution": {
     "iopub.execute_input": "2021-03-13T18:05:25.206273Z",
     "iopub.status.busy": "2021-03-13T18:05:25.205612Z",
     "iopub.status.idle": "2021-03-13T18:05:25.208708Z",
     "shell.execute_reply": "2021-03-13T18:05:25.209290Z"
    },
    "papermill": {
     "duration": 0.068986,
     "end_time": "2021-03-13T18:05:25.209443",
     "exception": false,
     "start_time": "2021-03-13T18:05:25.140457",
     "status": "completed"
    },
    "tags": []
   },
   "outputs": [
    {
     "data": {
      "text/plain": [
       "(4318,)"
      ]
     },
     "execution_count": 53,
     "metadata": {},
     "output_type": "execute_result"
    }
   ],
   "source": [
    "y_pred_test.shape"
   ]
  },
  {
   "cell_type": "code",
   "execution_count": null,
   "metadata": {
    "papermill": {
     "duration": 0.05765,
     "end_time": "2021-03-13T18:05:25.325591",
     "exception": false,
     "start_time": "2021-03-13T18:05:25.267941",
     "status": "completed"
    },
    "tags": []
   },
   "outputs": [],
   "source": []
  }
 ],
 "metadata": {
  "kernelspec": {
   "display_name": "Python 3",
   "language": "python",
   "name": "python3"
  },
  "language_info": {
   "codemirror_mode": {
    "name": "ipython",
    "version": 3
   },
   "file_extension": ".py",
   "mimetype": "text/x-python",
   "name": "python",
   "nbconvert_exporter": "python",
   "pygments_lexer": "ipython3",
   "version": "3.7.6"
  },
  "papermill": {
   "default_parameters": {},
   "duration": 24.948466,
   "end_time": "2021-03-13T18:05:27.158638",
   "environment_variables": {},
   "exception": null,
   "input_path": "__notebook__.ipynb",
   "output_path": "__notebook__.ipynb",
   "parameters": {},
   "start_time": "2021-03-13T18:05:02.210172",
   "version": "2.2.2"
  }
 },
 "nbformat": 4,
 "nbformat_minor": 4
}
